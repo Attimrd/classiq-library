%%capture
!pip install classiq

import classiq
classiq.authenticate()

@qfunc
def prepare_minus(x: QBit):
    X(x)
    H(x)

@qfunc
def diffuzer(aux: Output[QNum],x:QNum):
    aux^=(x!=0)

@qfunc
def zero_diffuzer(x: QNum):
    aux = QNum('aux')
    allocate(1,aux)
    within_apply(compute=lambda: prepare_minus(aux),
              action=lambda: diffuzer)

def C_iteration(i:int,vertices: QNum, adjacent_vertices:QNum):

    prob = [0]*16
    if i == 0:
        prob[i + 1] = 1.0
    elif i == 15:
        prob[i - 1] = 1.0
    else:
        prob[i - 1] = 0.5
        prob[i + 1] = 0.5

    print(f'Node:{i}= {prob}')

    control(ctrl=vertices==i,
            operand=lambda: within_apply(
              compute= lambda: inplace_prepare_state(probabilities=prob, bound=0.01, target=adjacent_vertices),
              action= lambda: zero_diffuzer(adjacent_vertices)))

@qfunc
def C_operator(vertices:QNum, adjacent_vertices: QNum):

    for i in range(16):
        C_iteration(i,vertices,adjacent_vertices)
def C_iteration(i:int,vertices: QNum, adjacent_vertices:QNum):

    prob = [0]*16
    if i == 0:
        prob[i + 1] = 1.0
    elif i == 15:
        prob[i - 1] = 1.0
    else:
        prob[i - 1] = 0.5
        prob[i + 1] = 0.5

    print(f'Node:{i}= {prob}')

    control(ctrl=vertices==i,
            operand=lambda: within_apply(
              compute= lambda: inplace_prepare_state(probabilities=prob, bound=0.01, target=adjacent_vertices),
              action= lambda: zero_diffuzer(adjacent_vertices)))

@qfunc
def C_operator(vertices:QNum, adjacent_vertices: QNum):

    for i in range(16):
        C_iteration(i,vertices,adjacent_vertices)
@qfunc
def main(vertices:Output[QNum], adjacent_vertices:Output[QNum]):

    allocate(4, vertices)
    hadamard_transform(vertices)
    allocate(4, adjacent_vertices)

    C_operator(vertices, adjacent_vertices)
    S_operator(vertices, adjacent_vertices)
qmod = create_model(main)
qprog = synthesize(qmod)
show(qprog)
